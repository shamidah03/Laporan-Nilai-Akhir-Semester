{
 "cells": [
  {
   "cell_type": "code",
   "execution_count": 1,
   "metadata": {},
   "outputs": [
    {
     "name": "stdout",
     "output_type": "stream",
     "text": [
      "_______________________________________\n",
      "Data Inputan\n",
      "_______________________________________\n",
      "NIS :11806897\n",
      "Nama :Siti Hamidah\n",
      "Jenis Kelamin :perempuan\n",
      "Rombel :RPL XI-3\n",
      "Rayon :Cibedug 2\n",
      "Nilai B.Indonesia :90\n",
      "Nilai Matematika :80\n",
      "Nilai B.Inggris :87\n",
      "_______________________________________\n",
      "Laporan Nilai Akhir Semester\n",
      "SMK Wikrama Bogor\n",
      "__________Data Diri____________ \n",
      "NIS :11806897\n",
      "Nama :Siti Hamidah\n",
      "Jenis Kelamin :perempuan\n",
      "Rombel :RPL XI-3\n",
      "Rayon :Cibedug 2\n",
      "_____________Nilai_____________\n",
      "B.Indonesia :90\n",
      "Matematika :80\n",
      "B.Inggris :87\n",
      "Rata-rata :85.66666666666667\n",
      "keterangan :Lulus\n"
     ]
    }
   ],
   "source": [
    "print(\"_______________________________________\")\n",
    "print(\"Data Inputan\")\n",
    "print(\"_______________________________________\")\n",
    "nis=input(\"NIS :\")\n",
    "nama=input(\"Nama :\")\n",
    "jk=input(\"Jenis Kelamin :\")\n",
    "rombel=input(\"Rombel :\")\n",
    "rayon=input(\"Rayon :\")\n",
    "nilai_indonesia=input(\"Nilai B.Indonesia :\")\n",
    "nilai_mtk=input(\"Nilai Matematika :\")\n",
    "nilai_inggris=input(\"Nilai B.Inggris :\")\n",
    "print(\"_______________________________________\")\n",
    "print(\"Laporan Nilai Akhir Semester\")\n",
    "print(\"SMK Wikrama Bogor\")\n",
    "print(\"__________Data Diri____________ \")\n",
    "print(\"NIS :\"+nis)\n",
    "print(\"Nama :\"+nama)\n",
    "print(\"Jenis Kelamin :\"+jk)\n",
    "print(\"Rombel :\"+rombel)\n",
    "print(\"Rayon :\"+rayon)\n",
    "print(\"_____________Nilai_____________\")\n",
    "print(\"B.Indonesia :\"+nilai_indonesia)\n",
    "print(\"Matematika :\"+nilai_mtk)\n",
    "print(\"B.Inggris :\"+nilai_inggris)\n",
    "nilai=(int(nilai_indonesia)+int(nilai_mtk)+int(nilai_inggris))/3\n",
    "print(\"Rata-rata :\"+str(nilai))\n",
    "if nilai>75:\n",
    "    print(\"keterangan :\"+\"Lulus\")\n",
    "else:\n",
    "    print(\"Keterangan :\"+\"tidak lulus\")\n",
    "    \n",
    "\n",
    "\n",
    "      "
   ]
  },
  {
   "cell_type": "code",
   "execution_count": null,
   "metadata": {},
   "outputs": [],
   "source": []
  },
  {
   "cell_type": "code",
   "execution_count": null,
   "metadata": {},
   "outputs": [],
   "source": []
  },
  {
   "cell_type": "code",
   "execution_count": null,
   "metadata": {},
   "outputs": [],
   "source": []
  }
 ],
 "metadata": {
  "kernelspec": {
   "display_name": "Python 3",
   "language": "python",
   "name": "python3"
  },
  "language_info": {
   "codemirror_mode": {
    "name": "ipython",
    "version": 3
   },
   "file_extension": ".py",
   "mimetype": "text/x-python",
   "name": "python",
   "nbconvert_exporter": "python",
   "pygments_lexer": "ipython3",
   "version": "3.7.3"
  }
 },
 "nbformat": 4,
 "nbformat_minor": 2
}
